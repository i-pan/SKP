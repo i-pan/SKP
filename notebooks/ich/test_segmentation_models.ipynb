{
 "cells": [
  {
   "cell_type": "code",
   "execution_count": null,
   "metadata": {},
   "outputs": [],
   "source": [
    "import albumentations as A\n",
    "import cv2\n",
    "import matplotlib.pyplot as plt\n",
    "import numpy as np\n",
    "import os\n",
    "import pandas as pd\n",
    "import torch\n",
    "\n",
    "from importlib import import_module\n",
    "from skimage.morphology import remove_small_objects\n",
    "from tqdm import tqdm\n",
    "\n",
    "from skp.toolbox.classes import Ensemble\n",
    "from skp.toolbox.functions import load_kfold_ensemble_as_list, plot_3d_image_side_by_side"
   ]
  },
  {
   "cell_type": "code",
   "execution_count": 9,
   "metadata": {},
   "outputs": [],
   "source": [
    "def create_ich_mask(probas, bleeds_present, init_thresh, min_thresh, increment=0.1, min_size=50, verbose=False):\n",
    "    # probas.shape = (6, H, W)\n",
    "    all_bleed, bleed_subtypes = probas[0], probas[1:]\n",
    "    mask = np.zeros_like(all_bleed)\n",
    "    bleed_present = np.where(bleeds_present)[0]\n",
    "    # if there is a bleed at a given pixel, what is the most likely bleed subtype\n",
    "    # among the bleeds present on this slice as noted in the ground truth\n",
    "    bleed_subtypes = np.argmax(bleed_subtypes[bleed_present], axis=0)\n",
    "    all_bleed_thresh = init_thresh\n",
    "    while mask.sum() == 0 and all_bleed_thresh >= min_thresh:\n",
    "        if all_bleed_thresh < init_thresh:\n",
    "            if verbose:\n",
    "                print(f\"Empty bleed mask. Reducing bleed threshold to {all_bleed_thresh} ...\")\n",
    "        for bleed_idx, bleed in enumerate(bleed_present):\n",
    "            mask[bleed_subtypes == bleed_idx] = bleed + 1\n",
    "            mask[all_bleed < all_bleed_thresh] = 0\n",
    "        if mask.sum() > 0:\n",
    "            # remove small objects\n",
    "            binary_mask = mask > 0\n",
    "            binary_mask = remove_small_objects(binary_mask, min_size=min_size)\n",
    "            mask[~binary_mask] = 0\n",
    "        all_bleed_thresh -= increment\n",
    "        all_bleed_thresh = float(f\"{all_bleed_thresh:0.2f}\")\n",
    "    if mask.sum() == 0:\n",
    "        if verbose:\n",
    "            print(f\"Reached minimum bleed threshold of {min_thresh}. Returning empty mask ...\")\n",
    "    return mask "
   ]
  },
  {
   "cell_type": "code",
   "execution_count": null,
   "metadata": {},
   "outputs": [],
   "source": [
    "cfg_name = \"ich.cfg_slice_segment_2dc_pos_only_sigmoid\"\n",
    "cfg = import_module(f\"skp.configs.{cfg_name}\").cfg\n",
    "weights_paths = [cfg.save_dir + f\"/{cfg_name}/4e607791/fold{fold}/checkpoints/last.ckpt\" for fold in range(5)]\n",
    "model_list = load_kfold_ensemble_as_list(cfg, weights_paths, device=\"cuda\", eval_mode=True)\n",
    "model = Ensemble(model_list, output_name=\"logits\", activation_fn=\"sigmoid\")"
   ]
  },
  {
   "cell_type": "code",
   "execution_count": null,
   "metadata": {},
   "outputs": [],
   "source": [
    "df = pd.read_csv(\"/mnt/stor/datasets/kaggle/rsna-intracranial-hemorrhage-detection/train_slices_with_2dc_kfold.csv\")\n",
    "pos_df = df.loc[df[\"any\"] == 1]\n",
    "pos_df.head()"
   ]
  },
  {
   "cell_type": "code",
   "execution_count": 5,
   "metadata": {},
   "outputs": [],
   "source": [
    "bhsd_df = pd.read_csv(\"/mnt/stor/datasets/BHSD/train_positive_slices_png_kfold.csv\")\n",
    "pos_df = pos_df.loc[~pos_df.PatientID.isin(list(set(bhsd_df.PatientID) & set(pos_df.PatientID)))]"
   ]
  },
  {
   "cell_type": "code",
   "execution_count": 6,
   "metadata": {},
   "outputs": [],
   "source": [
    "save_dir = \"/mnt/stor/datasets/kaggle/rsna-intracranial-hemorrhage-detection/generated_segmentation_masks_exclude_bhsd/\""
   ]
  },
  {
   "cell_type": "code",
   "execution_count": null,
   "metadata": {},
   "outputs": [],
   "source": [
    "resizer = A.Resize(512, 512, p=1)\n",
    "\n",
    "for row_idx, row in tqdm(pos_df.iterrows(), total=len(pos_df)):\n",
    "    files = row.filepath_2dc.split(\",\")\n",
    "    img = np.stack([cv2.imread(os.path.join(\"/mnt/stor/datasets/kaggle/rsna-intracranial-hemorrhage-detection/stage_2_train_png/\", f), cv2.IMREAD_GRAYSCALE) for f in files], axis=-1)\n",
    "    h, w = img.shape[:2]\n",
    "    resized = False\n",
    "    if h != 512 or w != 512:\n",
    "        resized = True\n",
    "        img = resizer(image=img)[\"image\"]\n",
    "    img = img.transpose(2, 0, 1)\n",
    "    img = torch.from_numpy(img).unsqueeze(0).float().cuda()\n",
    "    with torch.inference_mode():\n",
    "        out = model({\"x\": img})\n",
    "        if resized:\n",
    "            out = torch.nn.functional.interpolate(out, size=(h, w), mode=\"bilinear\")\n",
    "        out = out[0].cpu().numpy()\n",
    "    bleed_types = row[[\"epidural\", \"intraparenchymal\", \"intraventricular\", \"subarachnoid\", \"subdural\"]].values\n",
    "    mask = create_ich_mask(out, bleed_types, init_thresh=0.5, min_thresh=0.1, min_size=50)\n",
    "    if mask.sum() == 0:\n",
    "        continue\n",
    "    # save mask as middle file \n",
    "    save_path = os.path.join(save_dir, files[1])\n",
    "    os.makedirs(os.path.dirname(save_path), exist_ok=True)\n",
    "    _ = cv2.imwrite(save_path, mask.astype(\"uint8\"))"
   ]
  },
  {
   "cell_type": "code",
   "execution_count": null,
   "metadata": {},
   "outputs": [],
   "source": [
    "print(img.shape, h, w, mask.shape)"
   ]
  },
  {
   "cell_type": "code",
   "execution_count": null,
   "metadata": {},
   "outputs": [],
   "source": [
    "stack0 = np.stack([cv2.imread(os.path.join(\"/mnt/stor/datasets/kaggle/rsna-intracranial-hemorrhage-detection/stage_2_train_png/\", f), cv2.IMREAD_GRAYSCALE) for f in tmp_df.filepath], axis=0)\n",
    "stack = torch.from_numpy(stack0)\n",
    "# make 2Dc\n",
    "stack_2dc = torch.cat([stack[0].unsqueeze(0), stack, stack[-1].unsqueeze(0)])\n",
    "stack_2dc = torch.stack([stack_2dc[i:i+len(stack_2dc) - 2] for i in range(3)], dim=1)\n",
    "print(stack_2dc.shape)"
   ]
  },
  {
   "cell_type": "code",
   "execution_count": 41,
   "metadata": {},
   "outputs": [],
   "source": [
    "with torch.inference_mode():\n",
    "    out = model({\"x\": stack_2dc.float().cuda()})"
   ]
  },
  {
   "cell_type": "code",
   "execution_count": 42,
   "metadata": {},
   "outputs": [],
   "source": [
    "y = out.argmax(1).cpu().numpy()"
   ]
  },
  {
   "cell_type": "code",
   "execution_count": null,
   "metadata": {},
   "outputs": [],
   "source": [
    "plot_3d_image_side_by_side(stack0, y, num_images=len(y), axis=0)"
   ]
  },
  {
   "cell_type": "code",
   "execution_count": null,
   "metadata": {},
   "outputs": [],
   "source": []
  }
 ],
 "metadata": {
  "kernelspec": {
   "display_name": "skp",
   "language": "python",
   "name": "python3"
  },
  "language_info": {
   "codemirror_mode": {
    "name": "ipython",
    "version": 3
   },
   "file_extension": ".py",
   "mimetype": "text/x-python",
   "name": "python",
   "nbconvert_exporter": "python",
   "pygments_lexer": "ipython3",
   "version": "3.12.8"
  }
 },
 "nbformat": 4,
 "nbformat_minor": 2
}
