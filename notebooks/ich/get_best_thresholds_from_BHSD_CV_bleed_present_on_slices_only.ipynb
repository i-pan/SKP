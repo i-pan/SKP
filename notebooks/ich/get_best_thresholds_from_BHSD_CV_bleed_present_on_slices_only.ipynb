{
 "cells": [
  {
   "cell_type": "code",
   "execution_count": 12,
   "metadata": {},
   "outputs": [],
   "source": [
    "import albumentations as A \n",
    "import cv2\n",
    "import matplotlib.pyplot as plt\n",
    "import multiprocessing as mp\n",
    "import numpy as np\n",
    "import os\n",
    "import pandas as pd \n",
    "import torch \n",
    "\n",
    "from einops import rearrange, reduce\n",
    "from importlib import import_module\n",
    "from skp.toolbox.classes import Ensemble \n",
    "from skp.toolbox.functions import load_kfold_ensemble_as_list\n",
    "from torch.utils.data import Dataset, DataLoader\n",
    "from tqdm import tqdm"
   ]
  },
  {
   "cell_type": "code",
   "execution_count": 9,
   "metadata": {},
   "outputs": [],
   "source": [
    "def calculate_dice_over_thresholds(p, t, thresholds=[0.1, 0.2, 0.3, 0.4, 0.5, 0.6, 0.7, 0.8, 0.9]):\n",
    "    # p.shape = t.shape = (c, h, w)\n",
    "    assert p.shape == t.shape\n",
    "    p = torch.stack([p >= th for th in thresholds])\n",
    "    t = torch.stack([t] * len(thresholds))\n",
    "    intersection = reduce(p * t, \"n c h w -> n c\", \"sum\")\n",
    "    denominator = reduce(p + t, \"n c h w -> n c\", \"sum\")\n",
    "    dice = (2 * intersection) / denominator\n",
    "    return dice, t[0].sum((1, 2))"
   ]
  },
  {
   "cell_type": "code",
   "execution_count": 4,
   "metadata": {},
   "outputs": [],
   "source": [
    "DATA_DIR = \"/mnt/stor/datasets/BHSD/\""
   ]
  },
  {
   "cell_type": "code",
   "execution_count": 2,
   "metadata": {},
   "outputs": [
    {
     "name": "stdout",
     "output_type": "stream",
     "text": [
      "Loading weights from /home/ian/projects/SKP/experiments/ich/ich.cfg_BHSD_segment_pos_only_2dc_focal/f5ba27ea/fold0/checkpoints/last.ckpt ...\n",
      "Loading weights from /home/ian/projects/SKP/experiments/ich/ich.cfg_BHSD_segment_pos_only_2dc_focal/f5ba27ea/fold1/checkpoints/last.ckpt ...\n",
      "Loading weights from /home/ian/projects/SKP/experiments/ich/ich.cfg_BHSD_segment_pos_only_2dc_focal/f5ba27ea/fold2/checkpoints/last.ckpt ...\n",
      "Loading weights from /home/ian/projects/SKP/experiments/ich/ich.cfg_BHSD_segment_pos_only_2dc_focal/f5ba27ea/fold3/checkpoints/last.ckpt ...\n",
      "Loading weights from /home/ian/projects/SKP/experiments/ich/ich.cfg_BHSD_segment_pos_only_2dc_focal/f5ba27ea/fold4/checkpoints/last.ckpt ...\n"
     ]
    }
   ],
   "source": [
    "cfg_name = \"ich.cfg_BHSD_segment_pos_only_2dc_focal\"\n",
    "cfg = import_module(f\"skp.configs.{cfg_name}\").cfg\n",
    "cfg.pretrained = False\n",
    "cfg.freeze_encoder = False\n",
    "cfg.load_pretrained_encoder = False\n",
    "cfg.enable_gradient_checkpointing = False\n",
    "weights_paths = [f\"/home/ian/projects/SKP/experiments/ich/ich.cfg_BHSD_segment_pos_only_2dc_focal/f5ba27ea/fold{i}/checkpoints/last.ckpt\" for i in range(5)]\n",
    "model_list = load_kfold_ensemble_as_list(cfg, weights_paths=weights_paths, device=\"cuda\", eval_mode=True)"
   ]
  },
  {
   "cell_type": "code",
   "execution_count": 33,
   "metadata": {},
   "outputs": [
    {
     "data": {
      "text/plain": [
       "array([0.05, 0.1 , 0.15, 0.2 , 0.25, 0.3 , 0.35, 0.4 , 0.45, 0.5 , 0.55,\n",
       "       0.6 , 0.65, 0.7 , 0.75, 0.8 , 0.85, 0.9 , 0.95])"
      ]
     },
     "execution_count": 33,
     "metadata": {},
     "output_type": "execute_result"
    }
   ],
   "source": [
    "df = pd.read_csv(os.path.join(DATA_DIR, \"train_positive_slices_png_kfold.csv\"))\n",
    "thresholds = np.arange(0.05, 1.00, 0.05)\n",
    "thresholds"
   ]
  },
  {
   "cell_type": "code",
   "execution_count": 34,
   "metadata": {},
   "outputs": [
    {
     "name": "stderr",
     "output_type": "stream",
     "text": [
      "100%|██████████| 2368/2368 [03:49<00:00, 10.32it/s]\n"
     ]
    }
   ],
   "source": [
    "dice_list, labels_list = [], []\n",
    "for row_idx, row in tqdm(df.iterrows(), total=len(df)):\n",
    "    image_path = os.path.join(DATA_DIR, \"png\", row[\"image\"])\n",
    "    mask_path = os.path.join(DATA_DIR, \"png\", row[\"label\"])\n",
    "    img = cv2.imread(image_path, cv2.IMREAD_COLOR) # img saved as RGB\n",
    "    h, w = img.shape[:2]\n",
    "    img = cv2.resize(img, (512, 512))\n",
    "    mask = cv2.imread(mask_path, cv2.IMREAD_GRAYSCALE)\n",
    "    model = model_list[row.fold]\n",
    "    img = rearrange(img, \"h w c -> 1 c h w\")\n",
    "    img = torch.from_numpy(img).float().cuda()\n",
    "    with torch.inference_mode():\n",
    "        y = model({\"x\": img})\n",
    "        y = y[\"logits\"].sigmoid()\n",
    "        if h != 512 or w != 512:\n",
    "            y = torch.nn.functional.interpolate(y, size=(h, w), mode=\"bilinear\")\n",
    "        y = y.cpu()[0]\n",
    "    mask = torch.from_numpy(mask).long()\n",
    "    mask = torch.nn.functional.one_hot(mask, 6).float()\n",
    "    mask = rearrange(mask, \"h w c -> c h w\")\n",
    "    mask[0] = 1 - mask[0]\n",
    "    dice, labels = calculate_dice_over_thresholds(y, mask, thresholds)\n",
    "    dice_list.append(dice)\n",
    "    labels_list.append(labels)"
   ]
  },
  {
   "cell_type": "code",
   "execution_count": 35,
   "metadata": {},
   "outputs": [],
   "source": [
    "dice_dict = {}\n",
    "for i in range(6):\n",
    "    # only include dice if label is present\n",
    "    dice_dict[i] = torch.stack([d[:, i] for idx, d in enumerate(dice_list) if labels_list[idx][i] > 0])"
   ]
  },
  {
   "cell_type": "code",
   "execution_count": 36,
   "metadata": {},
   "outputs": [
    {
     "name": "stdout",
     "output_type": "stream",
     "text": [
      "0 2368\n",
      "1 181\n",
      "2 888\n",
      "3 713\n",
      "4 976\n",
      "5 765\n"
     ]
    }
   ],
   "source": [
    "for k, v in dice_dict.items():\n",
    "    print(k, len(v))"
   ]
  },
  {
   "cell_type": "code",
   "execution_count": 37,
   "metadata": {},
   "outputs": [
    {
     "name": "stdout",
     "output_type": "stream",
     "text": [
      "0 0.5787 0.4\n",
      "1 0.3848 0.1\n",
      "2 0.6689 0.35000000000000003\n",
      "3 0.5693 0.4\n",
      "4 0.3330 0.35000000000000003\n",
      "5 0.4135 0.3\n"
     ]
    }
   ],
   "source": [
    "for k, v in dice_dict.items():\n",
    "    print(k, f\"{v.mean(0).amax().item():0.4f}\", thresholds[v.mean(0).argmax().item()])"
   ]
  },
  {
   "cell_type": "code",
   "execution_count": null,
   "metadata": {},
   "outputs": [],
   "source": []
  }
 ],
 "metadata": {
  "kernelspec": {
   "display_name": "skp",
   "language": "python",
   "name": "python3"
  },
  "language_info": {
   "codemirror_mode": {
    "name": "ipython",
    "version": 3
   },
   "file_extension": ".py",
   "mimetype": "text/x-python",
   "name": "python",
   "nbconvert_exporter": "python",
   "pygments_lexer": "ipython3",
   "version": "3.12.8"
  }
 },
 "nbformat": 4,
 "nbformat_minor": 2
}
