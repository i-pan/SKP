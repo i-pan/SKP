{
 "cells": [
  {
   "cell_type": "code",
   "execution_count": null,
   "metadata": {},
   "outputs": [],
   "source": [
    "import cv2 \n",
    "import glob\n",
    "import matplotlib.pyplot as plt \n",
    "import numpy as np \n",
    "import os\n",
    "import torch \n",
    "\n",
    "from transformers import AutoModel"
   ]
  },
  {
   "cell_type": "code",
   "execution_count": null,
   "metadata": {},
   "outputs": [],
   "source": [
    "cropper = AutoModel.from_pretrained(\"ianpan/ct-crop\", trust_remote_code=True, token=True).eval().cuda()"
   ]
  },
  {
   "cell_type": "code",
   "execution_count": null,
   "metadata": {},
   "outputs": [],
   "source": [
    "# Test single slice\n",
    "files = glob.glob(\"/mnt/stor/datasets/kaggle/rsna-intracranial-hemorrhage-detection/stage_2_train_png/*/*/*/*.png\")\n",
    "files[0]"
   ]
  },
  {
   "cell_type": "code",
   "execution_count": null,
   "metadata": {},
   "outputs": [],
   "source": [
    "f = np.random.choice(files)\n",
    "img = cv2.imread(f)\n",
    "print(img.shape)\n",
    "with torch.inference_mode():\n",
    "    cropped_img = cropper.crop(img[..., 2], mode=\"2d\", add_buffer=0.025)\n",
    "print(cropped_img.shape)\n",
    "\n",
    "plt.imshow(cropped_img, cmap=\"gray\")"
   ]
  },
  {
   "cell_type": "code",
   "execution_count": null,
   "metadata": {},
   "outputs": [],
   "source": [
    "empty = np.zeros((256, 256))\n",
    "with torch.inference_mode():\n",
    "    cropped_empty = cropper.crop(empty, mode=\"2d\", add_buffer=0.025)\n",
    "print(cropped_empty.shape)"
   ]
  },
  {
   "cell_type": "code",
   "execution_count": null,
   "metadata": {},
   "outputs": [],
   "source": [
    "# Test series\n",
    "series = glob.glob(\"/mnt/stor/datasets/kaggle/rsna-intracranial-hemorrhage-detection/stage_2_train_png/*/*/*\")\n",
    "s = np.random.choice(series)\n",
    "png_files = np.sort(glob.glob(os.path.join(s, \"*.png\")))\n",
    "stack = np.stack([cv2.imread(f) for f in png_files], axis=0)\n",
    "cropped_stack = cropper.crop(stack, add_buffer=0.025, mode=\"3d\")\n",
    "print(cropped_stack.shape)\n",
    "\n",
    "# for i in range(cropped_stack.shape[0]):\n",
    "#     plt.imshow(cropped_stack[i], cmap=\"gray\")\n",
    "#     plt.show()"
   ]
  },
  {
   "cell_type": "code",
   "execution_count": null,
   "metadata": {},
   "outputs": [],
   "source": [
    "# Test DICOM series\n",
    "dicom_dirs = glob.glob(\"/mnt/stor/datasets/kaggle/rsna-intracranial-hemorrhage-detection/stage_2_train/*/*/*\")\n",
    "d = np.random.choice(dicom_dirs)\n",
    "stack = cropper.load_stack_from_dicom_folder(d)\n",
    "print(stack.shape, np.unique(stack))\n",
    "\n",
    "# Raw HU\n",
    "cropped_stack = cropper.crop(stack, add_buffer=0.025, mode=\"3d\", raw_hu=True)\n",
    "print(cropped_stack.shape)\n",
    "\n",
    "for i in range(cropped_stack.shape[0]):\n",
    "    plt.imshow(cropped_stack[i], cmap=\"gray\")\n",
    "    plt.show()"
   ]
  },
  {
   "cell_type": "code",
   "execution_count": null,
   "metadata": {},
   "outputs": [],
   "source": [
    "# Test DICOM series\n",
    "dicom_dirs = glob.glob(\"/mnt/stor/datasets/kaggle/rsna-intracranial-hemorrhage-detection/stage_2_train/*/*/*\")\n",
    "d = np.random.choice(dicom_dirs)\n",
    "stack, dicom_files = cropper.load_stack_from_dicom_folder(d, windows=[(40, 80), (400, 1800), (200, 10)], return_sorted_dicom_files=True)\n",
    "print(stack.shape, np.unique(stack), dicom_files)\n",
    "\n",
    "# Window\n",
    "cropped_stack = cropper.crop(stack, add_buffer=0.025, mode=\"3d\", raw_hu=False)\n",
    "print(cropped_stack.shape)\n",
    "\n",
    "for i in range(cropped_stack.shape[0]):\n",
    "    plt.imshow(cropped_stack[i], cmap=\"gray\")\n",
    "    plt.show()"
   ]
  },
  {
   "cell_type": "code",
   "execution_count": null,
   "metadata": {},
   "outputs": [],
   "source": [
    "# Test DICOM series\n",
    "dicom_dirs = glob.glob(\"/mnt/stor/datasets/kaggle/rsna-intracranial-hemorrhage-detection/stage_2_train/*/*/*\")\n",
    "d = np.random.choice(dicom_dirs)\n",
    "stack, dicom_files = cropper.load_stack_from_dicom_folder(d, windows=[(40, 80), (400, 1800), (200, 10)], return_sorted_dicom_files=True)\n",
    "print(stack.shape)\n",
    "\n",
    "# Add empty slices\n",
    "empty = np.zeros_like(stack[0])\n",
    "empty = empty[np.newaxis]\n",
    "stack = np.concatenate([empty, stack, empty], axis=0)\n",
    "\n",
    "# Window\n",
    "cropped_stack, empty_indices = cropper.crop(stack, add_buffer=0.025, mode=\"3d\", raw_hu=False, remove_empty_slices=True)\n",
    "print(empty_indices)\n",
    "print(cropped_stack.shape)\n",
    "\n",
    "for i in range(cropped_stack.shape[0]):\n",
    "    plt.imshow(cropped_stack[i], cmap=\"gray\")\n",
    "    plt.show()"
   ]
  },
  {
   "cell_type": "code",
   "execution_count": null,
   "metadata": {},
   "outputs": [],
   "source": []
  }
 ],
 "metadata": {
  "kernelspec": {
   "display_name": "skp",
   "language": "python",
   "name": "python3"
  },
  "language_info": {
   "codemirror_mode": {
    "name": "ipython",
    "version": 3
   },
   "file_extension": ".py",
   "mimetype": "text/x-python",
   "name": "python",
   "nbconvert_exporter": "python",
   "pygments_lexer": "ipython3",
   "version": "3.12.8"
  }
 },
 "nbformat": 4,
 "nbformat_minor": 2
}
