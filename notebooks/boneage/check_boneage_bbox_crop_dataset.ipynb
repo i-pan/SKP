{
 "cells": [
  {
   "cell_type": "code",
   "execution_count": null,
   "metadata": {},
   "outputs": [],
   "source": [
    "import matplotlib.pyplot as plt\n",
    "import numpy as np\n",
    "\n",
    "from importlib import import_module\n",
    "from skp.toolbox.functions import draw_bounding_boxes"
   ]
  },
  {
   "cell_type": "code",
   "execution_count": null,
   "metadata": {},
   "outputs": [],
   "source": [
    "cfg = import_module(\"skp.configs.boneage.cfg_female_channel_with_cls_clip_outliers\").cfg\n",
    "cfg.clip_bounds = (0.1, 99.9)\n",
    "dataset = import_module(f\"skp.datasets.{cfg.dataset}\").Dataset(cfg, mode=\"val\")"
   ]
  },
  {
   "cell_type": "code",
   "execution_count": null,
   "metadata": {},
   "outputs": [],
   "source": [
    "batch = dataset[5]"
   ]
  },
  {
   "cell_type": "code",
   "execution_count": null,
   "metadata": {},
   "outputs": [],
   "source": [
    "plt.imshow(batch[\"x\"][0].numpy(), cmap=\"gray\")"
   ]
  },
  {
   "cell_type": "code",
   "execution_count": null,
   "metadata": {},
   "outputs": [],
   "source": [
    "for i in batch[\"x\"].numpy():\n",
    "    print(np.unique(i))\n",
    "    plt.imshow(i[0].astype(\"uint8\"), cmap=\"gray\")\n",
    "    plt.show()"
   ]
  },
  {
   "cell_type": "code",
   "execution_count": null,
   "metadata": {},
   "outputs": [],
   "source": [
    "batch = dataset[np.random.randint(len(dataset))]\n",
    "y = batch[\"y\"].numpy()\n",
    "y[[0, 2]] *= batch[\"x\"].size(2)\n",
    "y[[1, 3]] *= batch[\"x\"].size(1)\n",
    "y = y.astype(\"int\")\n",
    "img = draw_bounding_boxes(batch[\"x\"].numpy()[0], [y], mode=\"xywh\")\n",
    "plt.imshow(img, cmap=\"gray\")"
   ]
  }
 ],
 "metadata": {
  "kernelspec": {
   "display_name": "skp",
   "language": "python",
   "name": "python3"
  },
  "language_info": {
   "codemirror_mode": {
    "name": "ipython",
    "version": 3
   },
   "file_extension": ".py",
   "mimetype": "text/x-python",
   "name": "python",
   "nbconvert_exporter": "python",
   "pygments_lexer": "ipython3",
   "version": "3.12.8"
  }
 },
 "nbformat": 4,
 "nbformat_minor": 2
}
