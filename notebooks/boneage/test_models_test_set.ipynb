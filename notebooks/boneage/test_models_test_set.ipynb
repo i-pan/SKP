{
 "cells": [
  {
   "cell_type": "code",
   "execution_count": 27,
   "metadata": {},
   "outputs": [],
   "source": [
    "import cv2\n",
    "import matplotlib.pyplot as plt\n",
    "import numpy as np\n",
    "import os\n",
    "import pandas as pd\n",
    "import torch\n",
    "\n",
    "from collections import defaultdict\n",
    "from einops import rearrange\n",
    "from importlib import import_module\n",
    "from skimage.exposure import match_histograms\n",
    "from skp.toolbox.classes import Ensemble\n",
    "from skp.toolbox.functions import load_kfold_ensemble_as_list\n",
    "from transformers import AutoModel\n",
    "from tqdm import tqdm"
   ]
  },
  {
   "cell_type": "code",
   "execution_count": 28,
   "metadata": {},
   "outputs": [],
   "source": [
    "device = \"cuda\""
   ]
  },
  {
   "cell_type": "code",
   "execution_count": 29,
   "metadata": {},
   "outputs": [],
   "source": [
    "crop_model = AutoModel.from_pretrained(\"ianpan/bone-age-crop\", trust_remote_code=True)\n",
    "crop_model = crop_model.eval().to(device)"
   ]
  },
  {
   "cell_type": "code",
   "execution_count": 47,
   "metadata": {},
   "outputs": [],
   "source": [
    "cfg_name = \"boneage.cfg_female_channel_reg_cls_match_hist_cropped_uncropped\"\n",
    "cfg = import_module(f\"skp.configs.{cfg_name}\").cfg\n",
    "weights_paths = [\n",
    "    cfg.save_dir + cfg_name + f\"/c6043bd4/fold{fold}/checkpoints/last.ckpt\" for fold in [0]\n",
    "]\n",
    "model = load_kfold_ensemble_as_list(cfg, weights_paths=weights_paths)\n",
    "model = Ensemble(model, output_name=\"logits1\", activation_fn=\"softmax\")\n",
    "model = model.eval().to(device)\n",
    "ref_img = cv2.imread(cfg.ref_image_match_hist, cfg.cv2_load_flag)"
   ]
  },
  {
   "cell_type": "code",
   "execution_count": 59,
   "metadata": {},
   "outputs": [
    {
     "name": "stderr",
     "output_type": "stream",
     "text": [
      "A new version of the following files was downloaded from https://huggingface.co/ianpan/bone-age:\n",
      "- configuration.py\n",
      ". Make sure to double-check they do not contain any added malicious code. To avoid downloading new versions of the code file, you can pin a revision.\n",
      "A new version of the following files was downloaded from https://huggingface.co/ianpan/bone-age:\n",
      "- modeling.py\n",
      ". Make sure to double-check they do not contain any added malicious code. To avoid downloading new versions of the code file, you can pin a revision.\n"
     ]
    }
   ],
   "source": [
    "model = AutoModel.from_pretrained(\"ianpan/bone-age\", trust_remote_code=True)\n",
    "model = model.eval().to(device)"
   ]
  },
  {
   "cell_type": "code",
   "execution_count": 48,
   "metadata": {},
   "outputs": [
    {
     "data": {
      "text/html": [
       "<div>\n",
       "<style scoped>\n",
       "    .dataframe tbody tr th:only-of-type {\n",
       "        vertical-align: middle;\n",
       "    }\n",
       "\n",
       "    .dataframe tbody tr th {\n",
       "        vertical-align: top;\n",
       "    }\n",
       "\n",
       "    .dataframe thead th {\n",
       "        text-align: right;\n",
       "    }\n",
       "</style>\n",
       "<table border=\"1\" class=\"dataframe\">\n",
       "  <thead>\n",
       "    <tr style=\"text-align: right;\">\n",
       "      <th></th>\n",
       "      <th>pid</th>\n",
       "      <th>female</th>\n",
       "      <th>bone_age</th>\n",
       "    </tr>\n",
       "  </thead>\n",
       "  <tbody>\n",
       "    <tr>\n",
       "      <th>0</th>\n",
       "      <td>4360</td>\n",
       "      <td>0</td>\n",
       "      <td>168.934249</td>\n",
       "    </tr>\n",
       "    <tr>\n",
       "      <th>1</th>\n",
       "      <td>4361</td>\n",
       "      <td>0</td>\n",
       "      <td>169.652678</td>\n",
       "    </tr>\n",
       "    <tr>\n",
       "      <th>2</th>\n",
       "      <td>4362</td>\n",
       "      <td>0</td>\n",
       "      <td>73.256112</td>\n",
       "    </tr>\n",
       "    <tr>\n",
       "      <th>3</th>\n",
       "      <td>4363</td>\n",
       "      <td>0</td>\n",
       "      <td>152.862669</td>\n",
       "    </tr>\n",
       "    <tr>\n",
       "      <th>4</th>\n",
       "      <td>4364</td>\n",
       "      <td>0</td>\n",
       "      <td>135.456954</td>\n",
       "    </tr>\n",
       "  </tbody>\n",
       "</table>\n",
       "</div>"
      ],
      "text/plain": [
       "    pid  female    bone_age\n",
       "0  4360       0  168.934249\n",
       "1  4361       0  169.652678\n",
       "2  4362       0   73.256112\n",
       "3  4363       0  152.862669\n",
       "4  4364       0  135.456954"
      ]
     },
     "execution_count": 48,
     "metadata": {},
     "output_type": "execute_result"
    }
   ],
   "source": [
    "df = pd.read_csv(\"/mnt/stor/datasets/bone-age/test.csv\")\n",
    "df.head()"
   ]
  },
  {
   "cell_type": "code",
   "execution_count": 63,
   "metadata": {},
   "outputs": [
    {
     "name": "stderr",
     "output_type": "stream",
     "text": [
      "100%|██████████| 200/200 [00:06<00:00, 30.59it/s]\n"
     ]
    }
   ],
   "source": [
    "# Original image - no crop or histogram matching\n",
    "preds = defaultdict(list)\n",
    "for row_idx, row in tqdm(df.iterrows(), total=len(df)):\n",
    "    preds[\"pid\"].append(int(row.pid))\n",
    "    img0 = cv2.imread(os.path.join(\"/mnt/stor/datasets/bone-age/test\", f\"{int(row.pid)}.png\"), 0)\n",
    "    img = rearrange(img0, \"h w -> h w 1\")\n",
    "    img = cfg.val_transforms(image=img)[\"image\"]\n",
    "    img = rearrange(img, \"h w c -> 1 c h w\")\n",
    "    img = torch.from_numpy(img).float()\n",
    "    # female_ch = torch.zeros_like(img)\n",
    "    # if row.female:\n",
    "    #     female_ch[...] = 255\n",
    "    # img = torch.cat([img, female_ch], dim=1)\n",
    "    with torch.inference_mode():\n",
    "        bone_age = model(img.to(device), torch.tensor([row.female]).to(device))[0].cpu()\n",
    "    preds[\"bone_age_pred\"].append(bone_age)"
   ]
  },
  {
   "cell_type": "code",
   "execution_count": 64,
   "metadata": {},
   "outputs": [
    {
     "data": {
      "text/plain": [
       "4.420377197265625"
      ]
     },
     "execution_count": 64,
     "metadata": {},
     "output_type": "execute_result"
    }
   ],
   "source": [
    "pred_df1 = pd.DataFrame(preds)\n",
    "pred_df1 = df.merge(pred_df1, on=\"pid\")\n",
    "pred_df1[\"mae\"] = (pred_df1.bone_age_pred - pred_df1.bone_age).abs()\n",
    "pred_df1[\"mae\"].mean() # 4.42, 4.67"
   ]
  },
  {
   "cell_type": "code",
   "execution_count": 49,
   "metadata": {},
   "outputs": [
    {
     "name": "stderr",
     "output_type": "stream",
     "text": [
      "  6%|▌         | 12/200 [00:00<00:03, 57.50it/s]"
     ]
    },
    {
     "name": "stderr",
     "output_type": "stream",
     "text": [
      "100%|██████████| 200/200 [00:03<00:00, 56.96it/s]\n"
     ]
    }
   ],
   "source": [
    "# Original image - no crop or histogram matching\n",
    "preds = defaultdict(list)\n",
    "for row_idx, row in tqdm(df.iterrows(), total=len(df)):\n",
    "    preds[\"pid\"].append(int(row.pid))\n",
    "    img0 = cv2.imread(os.path.join(\"/mnt/stor/datasets/bone-age/test\", f\"{int(row.pid)}.png\"), 0)\n",
    "    img = rearrange(img0, \"h w -> h w 1\")\n",
    "    img = cfg.val_transforms(image=img)[\"image\"]\n",
    "    img = rearrange(img, \"h w c -> 1 c h w\")\n",
    "    img = torch.from_numpy(img).float()\n",
    "    female_ch = torch.zeros_like(img)\n",
    "    if row.female:\n",
    "        female_ch[...] = 255\n",
    "    img = torch.cat([img, female_ch], dim=1)\n",
    "    with torch.inference_mode():\n",
    "        bone_age = model({\"x\": img.to(device)})[0].cpu()\n",
    "        bone_age = (bone_age * torch.arange(240)).sum().numpy()\n",
    "    preds[\"bone_age_pred\"].append(bone_age)"
   ]
  },
  {
   "cell_type": "code",
   "execution_count": 50,
   "metadata": {},
   "outputs": [
    {
     "data": {
      "text/plain": [
       "4.667528762547231"
      ]
     },
     "execution_count": 50,
     "metadata": {},
     "output_type": "execute_result"
    }
   ],
   "source": [
    "pred_df1 = pd.DataFrame(preds)\n",
    "pred_df1 = df.merge(pred_df1, on=\"pid\")\n",
    "pred_df1[\"mae\"] = (pred_df1.bone_age_pred - pred_df1.bone_age).abs()\n",
    "pred_df1[\"mae\"].mean() # 4.42, 4.67"
   ]
  },
  {
   "cell_type": "code",
   "execution_count": 51,
   "metadata": {},
   "outputs": [
    {
     "name": "stderr",
     "output_type": "stream",
     "text": [
      "  3%|▎         | 6/200 [00:00<00:03, 52.64it/s]"
     ]
    },
    {
     "name": "stderr",
     "output_type": "stream",
     "text": [
      "100%|██████████| 200/200 [00:03<00:00, 51.26it/s]\n"
     ]
    }
   ],
   "source": [
    "# Crop, no histogram matching\n",
    "preds = defaultdict(list)\n",
    "for row_idx, row in tqdm(df.iterrows(), total=len(df)):\n",
    "    preds[\"pid\"].append(int(row.pid))\n",
    "    img0 = cv2.imread(os.path.join(\"/mnt/stor/datasets/bone-age/test\", f\"{int(row.pid)}.png\"), 0)\n",
    "    img = rearrange(img0, \"h w -> h w 1\")\n",
    "    img = crop_model.preprocess(img)\n",
    "    img = rearrange(img, \"h w c -> 1 c h w\")\n",
    "    img = torch.from_numpy(img).float()\n",
    "    with torch.inference_mode():\n",
    "        box = crop_model(img.to(device), torch.tensor([img0.shape[:2]]).to(device)).cpu().numpy()\n",
    "    x, y, w, h = box[0]\n",
    "    cropped_img0 = img0[y: y + h, x: x + w]\n",
    "    cropped_img = rearrange(cropped_img0, \"h w -> h w 1\")\n",
    "    cropped_img = cfg.val_transforms(image=cropped_img)[\"image\"]\n",
    "    cropped_img = rearrange(cropped_img, \"h w c -> 1 c h w\")\n",
    "    cropped_img = torch.from_numpy(cropped_img).float()\n",
    "    female_ch = torch.zeros_like(cropped_img)\n",
    "    if row.female:\n",
    "        female_ch[...] = 255\n",
    "    cropped_img = torch.cat([cropped_img, female_ch], dim=1)\n",
    "    with torch.inference_mode():\n",
    "        bone_age = model({\"x\": cropped_img.to(device)})[0].cpu()\n",
    "        bone_age = (bone_age * torch.arange(240)).sum().numpy()\n",
    "    preds[\"bone_age_pred\"].append(bone_age)"
   ]
  },
  {
   "cell_type": "code",
   "execution_count": 52,
   "metadata": {},
   "outputs": [
    {
     "data": {
      "text/plain": [
       "4.8375959294328235"
      ]
     },
     "execution_count": 52,
     "metadata": {},
     "output_type": "execute_result"
    }
   ],
   "source": [
    "pred_df2 = pd.DataFrame(preds)\n",
    "pred_df2 = df.merge(pred_df2, on=\"pid\")\n",
    "pred_df2[\"mae\"] = (pred_df2.bone_age_pred - pred_df2.bone_age).abs()\n",
    "pred_df2[\"mae\"].mean() # 4.47, 4.84"
   ]
  },
  {
   "cell_type": "code",
   "execution_count": 53,
   "metadata": {},
   "outputs": [
    {
     "name": "stderr",
     "output_type": "stream",
     "text": [
      "  7%|▋         | 14/200 [00:00<00:04, 40.96it/s]"
     ]
    },
    {
     "name": "stderr",
     "output_type": "stream",
     "text": [
      "100%|██████████| 200/200 [00:05<00:00, 38.00it/s]\n"
     ]
    }
   ],
   "source": [
    "# No crop, yes histogram matching\n",
    "preds = defaultdict(list)\n",
    "for row_idx, row in tqdm(df.iterrows(), total=len(df)):\n",
    "    preds[\"pid\"].append(int(row.pid))\n",
    "    img0 = cv2.imread(os.path.join(\"/mnt/stor/datasets/bone-age/test\", f\"{int(row.pid)}.png\"), 0)\n",
    "    img0 = match_histograms(img0, ref_img)\n",
    "    img = rearrange(img0, \"h w -> h w 1\")\n",
    "    img = cfg.val_transforms(image=img)[\"image\"]\n",
    "    img = rearrange(img, \"h w c -> 1 c h w\")\n",
    "    img = torch.from_numpy(img).float()\n",
    "    female_ch = torch.zeros_like(img)\n",
    "    if row.female:\n",
    "        female_ch[...] = 255\n",
    "    img = torch.cat([img, female_ch], dim=1)\n",
    "    with torch.inference_mode():\n",
    "        bone_age = model({\"x\": img.to(device)})[0].cpu()\n",
    "        bone_age = (bone_age * torch.arange(240)).sum().numpy()\n",
    "    preds[\"bone_age_pred\"].append(bone_age)"
   ]
  },
  {
   "cell_type": "code",
   "execution_count": 54,
   "metadata": {},
   "outputs": [
    {
     "data": {
      "text/plain": [
       "4.590002495312414"
      ]
     },
     "execution_count": 54,
     "metadata": {},
     "output_type": "execute_result"
    }
   ],
   "source": [
    "pred_df3 = pd.DataFrame(preds)\n",
    "pred_df3 = df.merge(pred_df3, on=\"pid\")\n",
    "pred_df3[\"mae\"] = (pred_df3.bone_age_pred - pred_df3.bone_age).abs()\n",
    "pred_df3[\"mae\"].mean() # 4.34, 4.59"
   ]
  },
  {
   "cell_type": "code",
   "execution_count": 55,
   "metadata": {},
   "outputs": [
    {
     "name": "stderr",
     "output_type": "stream",
     "text": [
      "  2%|▏         | 4/200 [00:00<00:05, 36.59it/s]"
     ]
    },
    {
     "name": "stderr",
     "output_type": "stream",
     "text": [
      "100%|██████████| 200/200 [00:04<00:00, 40.64it/s]\n"
     ]
    }
   ],
   "source": [
    "# Crop and histogram matching\n",
    "preds = defaultdict(list)\n",
    "for row_idx, row in tqdm(df.iterrows(), total=len(df)):\n",
    "    preds[\"pid\"].append(int(row.pid))\n",
    "    img0 = cv2.imread(os.path.join(\"/mnt/stor/datasets/bone-age/test\", f\"{int(row.pid)}.png\"), 0)\n",
    "    img = rearrange(img0, \"h w -> h w 1\")\n",
    "    img = crop_model.preprocess(img)\n",
    "    img = rearrange(img, \"h w c -> 1 c h w\")\n",
    "    img = torch.from_numpy(img).float()\n",
    "    with torch.inference_mode():\n",
    "        box = crop_model(img.to(device), torch.tensor([img0.shape[:2]]).to(device)).cpu().numpy()\n",
    "    x, y, w, h = box[0]\n",
    "    cropped_img0 = img0[y: y + h, x: x + w]\n",
    "    cropped_img0 = match_histograms(cropped_img0, ref_img)\n",
    "    cropped_img = rearrange(cropped_img0, \"h w -> h w 1\")\n",
    "    cropped_img = cfg.val_transforms(image=cropped_img)[\"image\"]\n",
    "    cropped_img = rearrange(cropped_img, \"h w c -> 1 c h w\")\n",
    "    cropped_img = torch.from_numpy(cropped_img).float()\n",
    "    female_ch = torch.zeros_like(cropped_img)\n",
    "    if row.female:\n",
    "        female_ch[...] = 255\n",
    "    cropped_img = torch.cat([cropped_img, female_ch], dim=1)\n",
    "    with torch.inference_mode():\n",
    "        bone_age = model({\"x\": cropped_img.to(device)})[0].cpu()\n",
    "        bone_age = (bone_age * torch.arange(240)).sum().numpy()\n",
    "    preds[\"bone_age_pred\"].append(bone_age)"
   ]
  },
  {
   "cell_type": "code",
   "execution_count": 56,
   "metadata": {},
   "outputs": [
    {
     "data": {
      "text/plain": [
       "4.450715427270441"
      ]
     },
     "execution_count": 56,
     "metadata": {},
     "output_type": "execute_result"
    }
   ],
   "source": [
    "pred_df4 = pd.DataFrame(preds)\n",
    "pred_df4 = df.merge(pred_df4, on=\"pid\")\n",
    "pred_df4[\"mae\"] = (pred_df4.bone_age_pred - pred_df4.bone_age).abs()\n",
    "pred_df4[\"mae\"].mean() # 4.16, 4.45"
   ]
  },
  {
   "cell_type": "code",
   "execution_count": null,
   "metadata": {},
   "outputs": [
    {
     "data": {
      "text/plain": [
       "4.423161336917886"
      ]
     },
     "execution_count": 57,
     "metadata": {},
     "output_type": "execute_result"
    }
   ],
   "source": [
    "y_true = pred_df1.bone_age.values\n",
    "y_pred = (pred_df1.bone_age_pred.values + pred_df2.bone_age_pred.values + pred_df3.bone_age_pred.values + pred_df4.bone_age_pred.values) / 4\n",
    "np.mean(np.abs(y_true - y_pred)) # 4.22, 4.42"
   ]
  }
 ],
 "metadata": {
  "kernelspec": {
   "display_name": "skp",
   "language": "python",
   "name": "python3"
  },
  "language_info": {
   "codemirror_mode": {
    "name": "ipython",
    "version": 3
   },
   "file_extension": ".py",
   "mimetype": "text/x-python",
   "name": "python",
   "nbconvert_exporter": "python",
   "pygments_lexer": "ipython3",
   "version": "3.12.8"
  }
 },
 "nbformat": 4,
 "nbformat_minor": 2
}
