{
 "cells": [
  {
   "cell_type": "code",
   "execution_count": 1,
   "metadata": {},
   "outputs": [],
   "source": [
    "import numpy as np\n",
    "import pandas as pd"
   ]
  },
  {
   "cell_type": "code",
   "execution_count": 2,
   "metadata": {},
   "outputs": [
    {
     "data": {
      "text/html": [
       "<div>\n",
       "<style scoped>\n",
       "    .dataframe tbody tr th:only-of-type {\n",
       "        vertical-align: middle;\n",
       "    }\n",
       "\n",
       "    .dataframe tbody tr th {\n",
       "        vertical-align: top;\n",
       "    }\n",
       "\n",
       "    .dataframe thead th {\n",
       "        text-align: right;\n",
       "    }\n",
       "</style>\n",
       "<table border=\"1\" class=\"dataframe\">\n",
       "  <thead>\n",
       "    <tr style=\"text-align: right;\">\n",
       "      <th></th>\n",
       "      <th>pid</th>\n",
       "      <th>bone_age</th>\n",
       "      <th>female</th>\n",
       "      <th>subset</th>\n",
       "      <th>outer</th>\n",
       "      <th>inner0</th>\n",
       "      <th>inner1</th>\n",
       "      <th>inner2</th>\n",
       "      <th>inner3</th>\n",
       "      <th>inner4</th>\n",
       "      <th>fold</th>\n",
       "      <th>imgfile</th>\n",
       "      <th>bone_age_years</th>\n",
       "      <th>imgfile0</th>\n",
       "    </tr>\n",
       "  </thead>\n",
       "  <tbody>\n",
       "    <tr>\n",
       "      <th>0</th>\n",
       "      <td>1377</td>\n",
       "      <td>180</td>\n",
       "      <td>1</td>\n",
       "      <td>train</td>\n",
       "      <td>0</td>\n",
       "      <td>-1</td>\n",
       "      <td>3</td>\n",
       "      <td>3</td>\n",
       "      <td>3</td>\n",
       "      <td>3</td>\n",
       "      <td>0</td>\n",
       "      <td>train/1377.png</td>\n",
       "      <td>15.000000</td>\n",
       "      <td>1377.png</td>\n",
       "    </tr>\n",
       "    <tr>\n",
       "      <th>1</th>\n",
       "      <td>1378</td>\n",
       "      <td>12</td>\n",
       "      <td>1</td>\n",
       "      <td>train</td>\n",
       "      <td>3</td>\n",
       "      <td>2</td>\n",
       "      <td>4</td>\n",
       "      <td>4</td>\n",
       "      <td>-1</td>\n",
       "      <td>4</td>\n",
       "      <td>3</td>\n",
       "      <td>train/1378.png</td>\n",
       "      <td>1.000000</td>\n",
       "      <td>1378.png</td>\n",
       "    </tr>\n",
       "    <tr>\n",
       "      <th>2</th>\n",
       "      <td>1379</td>\n",
       "      <td>94</td>\n",
       "      <td>1</td>\n",
       "      <td>train</td>\n",
       "      <td>2</td>\n",
       "      <td>4</td>\n",
       "      <td>3</td>\n",
       "      <td>-1</td>\n",
       "      <td>4</td>\n",
       "      <td>3</td>\n",
       "      <td>2</td>\n",
       "      <td>train/1379.png</td>\n",
       "      <td>7.833333</td>\n",
       "      <td>1379.png</td>\n",
       "    </tr>\n",
       "    <tr>\n",
       "      <th>3</th>\n",
       "      <td>1380</td>\n",
       "      <td>120</td>\n",
       "      <td>0</td>\n",
       "      <td>train</td>\n",
       "      <td>1</td>\n",
       "      <td>3</td>\n",
       "      <td>-1</td>\n",
       "      <td>3</td>\n",
       "      <td>3</td>\n",
       "      <td>2</td>\n",
       "      <td>1</td>\n",
       "      <td>train/1380.png</td>\n",
       "      <td>10.000000</td>\n",
       "      <td>1380.png</td>\n",
       "    </tr>\n",
       "    <tr>\n",
       "      <th>4</th>\n",
       "      <td>1381</td>\n",
       "      <td>82</td>\n",
       "      <td>1</td>\n",
       "      <td>train</td>\n",
       "      <td>0</td>\n",
       "      <td>-1</td>\n",
       "      <td>2</td>\n",
       "      <td>2</td>\n",
       "      <td>2</td>\n",
       "      <td>1</td>\n",
       "      <td>0</td>\n",
       "      <td>train/1381.png</td>\n",
       "      <td>6.833333</td>\n",
       "      <td>1381.png</td>\n",
       "    </tr>\n",
       "  </tbody>\n",
       "</table>\n",
       "</div>"
      ],
      "text/plain": [
       "    pid  bone_age  female subset  outer  inner0  inner1  inner2  inner3  \\\n",
       "0  1377       180       1  train      0      -1       3       3       3   \n",
       "1  1378        12       1  train      3       2       4       4      -1   \n",
       "2  1379        94       1  train      2       4       3      -1       4   \n",
       "3  1380       120       0  train      1       3      -1       3       3   \n",
       "4  1381        82       1  train      0      -1       2       2       2   \n",
       "\n",
       "   inner4  fold         imgfile  bone_age_years  imgfile0  \n",
       "0       3     0  train/1377.png       15.000000  1377.png  \n",
       "1       4     3  train/1378.png        1.000000  1378.png  \n",
       "2       3     2  train/1379.png        7.833333  1379.png  \n",
       "3       2     1  train/1380.png       10.000000  1380.png  \n",
       "4       1     0  train/1381.png        6.833333  1381.png  "
      ]
     },
     "execution_count": 2,
     "metadata": {},
     "output_type": "execute_result"
    }
   ],
   "source": [
    "df = pd.read_csv(\"/mnt/stor/datasets/bone-age/train_plus_valid_kfold.csv\")\n",
    "df.head()"
   ]
  },
  {
   "cell_type": "code",
   "execution_count": 53,
   "metadata": {},
   "outputs": [
    {
     "data": {
      "text/plain": [
       "([0, 24, 36, 48, 60, 72, 78, 84, 90, 96],\n",
       " [132, 138, 144, 150, 156, 162, 168, 180, 192, inf])"
      ]
     },
     "execution_count": 53,
     "metadata": {},
     "output_type": "execute_result"
    }
   ],
   "source": [
    "boundaries = [0, 24]\n",
    "boundaries.extend(list(np.arange(36, 72, 12)))\n",
    "boundaries.extend(list(np.arange(72, 168, 6)))\n",
    "boundaries.extend(list(np.arange(168, 204, 12)))\n",
    "boundaries.append(float(\"inf\"))\n",
    "boundaries[:10], boundaries[-10:]"
   ]
  },
  {
   "cell_type": "code",
   "execution_count": 55,
   "metadata": {},
   "outputs": [
    {
     "data": {
      "text/plain": [
       "bone_age_groups\n",
       "(150.0, 156.0]    1289\n",
       "(126.0, 132.0]    1215\n",
       "(114.0, 120.0]    1116\n",
       "(162.0, 168.0]    1078\n",
       "(102.0, 108.0]     888\n",
       "(90.0, 96.0]       883\n",
       "(156.0, 162.0]     853\n",
       "(144.0, 150.0]     773\n",
       "(138.0, 144.0]     743\n",
       "(78.0, 84.0]       733\n",
       "(132.0, 138.0]     627\n",
       "(168.0, 180.0]     579\n",
       "(60.0, 72.0]       565\n",
       "(48.0, 60.0]       564\n",
       "(192.0, inf]       385\n",
       "(180.0, 192.0]     379\n",
       "(120.0, 126.0]     233\n",
       "(36.0, 48.0]       225\n",
       "(24.0, 36.0]       223\n",
       "(0.0, 24.0]        192\n",
       "(108.0, 114.0]     134\n",
       "(96.0, 102.0]      125\n",
       "(84.0, 90.0]       125\n",
       "(72.0, 78.0]       109\n",
       "Name: count, dtype: int64"
      ]
     },
     "execution_count": 55,
     "metadata": {},
     "output_type": "execute_result"
    }
   ],
   "source": [
    "df[\"bone_age_groups\"] = pd.cut(df.bone_age, boundaries)\n",
    "df.bone_age_groups.value_counts()"
   ]
  },
  {
   "cell_type": "code",
   "execution_count": 59,
   "metadata": {},
   "outputs": [
    {
     "data": {
      "text/plain": [
       "bone_age_categorical\n",
       "18    1289\n",
       "14    1215\n",
       "12    1116\n",
       "20    1078\n",
       "10     888\n",
       "8      883\n",
       "19     853\n",
       "17     773\n",
       "16     743\n",
       "6      733\n",
       "15     627\n",
       "21     579\n",
       "4      565\n",
       "3      564\n",
       "23     385\n",
       "22     379\n",
       "13     233\n",
       "2      225\n",
       "1      223\n",
       "0      192\n",
       "11     134\n",
       "7      125\n",
       "9      125\n",
       "5      109\n",
       "Name: count, dtype: int64"
      ]
     },
     "execution_count": 59,
     "metadata": {},
     "output_type": "execute_result"
    }
   ],
   "source": [
    "df[\"bone_age_categorical\"] = pd.Categorical(df.bone_age_groups).codes\n",
    "df.bone_age_categorical.value_counts()"
   ]
  },
  {
   "cell_type": "code",
   "execution_count": 60,
   "metadata": {},
   "outputs": [],
   "source": [
    "df.to_csv(\"/mnt/stor/datasets/bone-age/train_plus_valid_kfold.csv\", index=False)"
   ]
  },
  {
   "cell_type": "code",
   "execution_count": 61,
   "metadata": {},
   "outputs": [
    {
     "data": {
      "text/plain": [
       "(24,)"
      ]
     },
     "execution_count": 61,
     "metadata": {},
     "output_type": "execute_result"
    }
   ],
   "source": [
    "df.bone_age_categorical.unique().shape"
   ]
  },
  {
   "cell_type": "code",
   "execution_count": null,
   "metadata": {},
   "outputs": [],
   "source": []
  }
 ],
 "metadata": {
  "kernelspec": {
   "display_name": "skp",
   "language": "python",
   "name": "python3"
  },
  "language_info": {
   "codemirror_mode": {
    "name": "ipython",
    "version": 3
   },
   "file_extension": ".py",
   "mimetype": "text/x-python",
   "name": "python",
   "nbconvert_exporter": "python",
   "pygments_lexer": "ipython3",
   "version": "3.12.8"
  }
 },
 "nbformat": 4,
 "nbformat_minor": 2
}
