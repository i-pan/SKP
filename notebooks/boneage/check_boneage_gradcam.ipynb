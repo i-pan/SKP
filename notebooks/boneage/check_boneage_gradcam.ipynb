{
 "cells": [
  {
   "cell_type": "code",
   "execution_count": 1,
   "metadata": {},
   "outputs": [],
   "source": [
    "import cv2\n",
    "import matplotlib.pyplot as plt\n",
    "import torch\n",
    "\n",
    "from importlib import import_module\n",
    "from pytorch_grad_cam import AblationCAM, GradCAM, XGradCAM, EigenCAM, EigenGradCAM\n",
    "from pytorch_grad_cam.utils.model_targets import ClassifierOutputTarget, RawScoresOutputTarget\n",
    "from pytorch_grad_cam.utils.image import show_cam_on_image\n",
    "from skp.toolbox.functions import load_model_from_config, overlay_images\n",
    "from torch import nn"
   ]
  },
  {
   "cell_type": "code",
   "execution_count": 2,
   "metadata": {},
   "outputs": [],
   "source": [
    "class ModelForGradCAM(nn.Module):\n",
    "\n",
    "    def __init__(self, model):\n",
    "        super().__init__()\n",
    "        self.model = model\n",
    "    \n",
    "    def forward(self, x):\n",
    "        return self.model({\"x\": x})[\"logits1\"]"
   ]
  },
  {
   "cell_type": "code",
   "execution_count": null,
   "metadata": {},
   "outputs": [],
   "source": [
    "cfg = import_module(\"skp.configs.boneage.cfg_female_channel_reg_cls_match_hist\").cfg\n",
    "cfg.backbone, cfg.backbone_img_size = \"convnextv2_tiny\", False\n",
    "model = load_model_from_config(\n",
    "    cfg, \n",
    "    weights_path=cfg.save_dir + \"boneage.cfg_female_channel_reg_cls_match_hist/fa77ff59/fold0/checkpoints/last.ckpt\",\n",
    "    device=\"cpu\",\n",
    "    eval_mode=True\n",
    ")\n",
    "model_gradcam = ModelForGradCAM(model)\n",
    "dataset = import_module(f\"skp.datasets.{cfg.dataset}\").Dataset(cfg, mode=\"val\")"
   ]
  },
  {
   "cell_type": "code",
   "execution_count": null,
   "metadata": {},
   "outputs": [],
   "source": [
    "model.backbone.stages[-1].blocks[-1]"
   ]
  },
  {
   "cell_type": "code",
   "execution_count": 27,
   "metadata": {},
   "outputs": [],
   "source": [
    "batch = dataset[6]\n",
    "x = batch[\"x\"].unsqueeze(0)\n",
    "\n",
    "with torch.inference_mode():\n",
    "    out = model({\"x\": x}, return_loss=False)\n",
    "    # predicted_bone_age = out[\"logits0\"][0].item()\n",
    "    predicted_bone_age = out[\"logits1\"][0].softmax(dim=0)\n",
    "    predicted_bone_age = (predicted_bone_age * torch.arange(240)).sum().item()\n",
    "    # round to nearest integer\n",
    "    rounded_bone_age = round(predicted_bone_age)\n",
    "\n",
    "predicted_bone_age, rounded_bone_age\n",
    "\n",
    "target_layers = [model_gradcam.model.backbone.stages[-1]]\n",
    "targets = [ClassifierOutputTarget(rounded_bone_age)]\n",
    "\n",
    "with GradCAM(model=model_gradcam, target_layers=target_layers) as cam:\n",
    "    grayscale_cam = cam(input_tensor=x, targets=targets, eigen_smooth=True)"
   ]
  },
  {
   "cell_type": "code",
   "execution_count": null,
   "metadata": {},
   "outputs": [],
   "source": [
    "heatmap = cv2.applyColorMap((grayscale_cam[0] * 255).astype(\"uint8\"), cv2.COLORMAP_JET)\n",
    "image = cv2.cvtColor(batch[\"x\"].numpy()[0].astype(\"uint8\"), cv2.COLOR_GRAY2RGB)\n",
    "image_weight = 0.6\n",
    "cam = (1 - image_weight) * heatmap[..., ::-1] + image_weight * image\n",
    "cam = cam.astype(\"uint8\")\n",
    "\n",
    "plt.imshow(cam)"
   ]
  },
  {
   "cell_type": "code",
   "execution_count": null,
   "metadata": {},
   "outputs": [],
   "source": []
  }
 ],
 "metadata": {
  "kernelspec": {
   "display_name": "skp",
   "language": "python",
   "name": "python3"
  },
  "language_info": {
   "codemirror_mode": {
    "name": "ipython",
    "version": 3
   },
   "file_extension": ".py",
   "mimetype": "text/x-python",
   "name": "python",
   "nbconvert_exporter": "python",
   "pygments_lexer": "ipython3",
   "version": "3.12.8"
  }
 },
 "nbformat": 4,
 "nbformat_minor": 2
}
