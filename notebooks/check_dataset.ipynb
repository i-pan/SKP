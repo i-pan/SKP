{
 "cells": [
  {
   "cell_type": "code",
   "execution_count": null,
   "metadata": {},
   "outputs": [],
   "source": [
    "import albumentations as A \n",
    "import matplotlib.pyplot as plt\n",
    "import numpy as np\n",
    "import torch\n",
    "\n",
    "from importlib import import_module\n",
    "from skp.toolbox.functions import load_model_from_config, plot_3d_image"
   ]
  },
  {
   "cell_type": "code",
   "execution_count": null,
   "metadata": {},
   "outputs": [],
   "source": [
    "cfg = import_module(\"skp.configs.totalclassifier.cfg_seg_2d_to_3d\").cfg \n",
    "dataset = import_module(f\"skp.datasets.{cfg.dataset}\").Dataset(cfg, mode=\"train\")\n",
    "model = import_module(f\"skp.models.{cfg.model}\").Net(cfg)"
   ]
  },
  {
   "cell_type": "code",
   "execution_count": 3,
   "metadata": {},
   "outputs": [],
   "source": [
    "# model = load_model_from_config(cfg, weights_path=\"/home/ian/projects/SKP/experiments/totalclassifier/totalclassifier.cfg_seg_cls_mpr/8f7d5df4/fold0/checkpoints/last.ckpt\", device=\"cuda\", eval_mode=True)"
   ]
  },
  {
   "cell_type": "code",
   "execution_count": null,
   "metadata": {},
   "outputs": [],
   "source": [
    "print(\"dataset size\", len(dataset))\n",
    "idx = np.random.randint(len(dataset))\n",
    "batch = dataset[idx]"
   ]
  },
  {
   "cell_type": "code",
   "execution_count": null,
   "metadata": {},
   "outputs": [],
   "source": [
    "print(batch[\"x\"].shape)"
   ]
  },
  {
   "cell_type": "code",
   "execution_count": null,
   "metadata": {},
   "outputs": [],
   "source": [
    "plot_3d_image(batch[\"x\"].numpy()[:, 0], axis=0, num_images=16)\n",
    "plot_3d_image(batch[\"y\"].numpy(), axis=0, num_images=16)"
   ]
  },
  {
   "cell_type": "code",
   "execution_count": null,
   "metadata": {},
   "outputs": [],
   "source": [
    "print(\"dataset size\", len(dataset))\n",
    "idx = np.random.randint(len(dataset))\n",
    "batch = dataset[idx]\n",
    "\n",
    "x = batch[\"seg\"][\"x\"]\n",
    "print(x.shape)\n",
    "y = batch[\"seg\"][\"y\"]\n",
    "print(y.shape)\n",
    "\n",
    "with torch.inference_mode():\n",
    "    out = model({\"seg\": {\"x\": x.unsqueeze(0).cuda()}})\n",
    "\n",
    "logits = out[\"seg\"][\"logits\"].sigmoid()\n",
    "logits = torch.cat([1 - logits.amax(1, keepdim=True), logits], dim=1)\n",
    "labels = logits.argmax(1)[0].cpu().numpy()\n",
    "\n",
    "plt.subplot(1, 3, 1)\n",
    "plt.imshow(x[0].numpy(), cmap=\"gray\")\n",
    "plt.subplot(1, 3, 2)\n",
    "plt.imshow(y.numpy(), cmap=\"gray\")\n",
    "plt.subplot(1, 3, 3)\n",
    "plt.imshow(labels, cmap=\"gray\")\n",
    "plt.show()"
   ]
  },
  {
   "cell_type": "code",
   "execution_count": null,
   "metadata": {},
   "outputs": [],
   "source": []
  },
  {
   "cell_type": "code",
   "execution_count": null,
   "metadata": {},
   "outputs": [],
   "source": []
  },
  {
   "cell_type": "code",
   "execution_count": null,
   "metadata": {},
   "outputs": [],
   "source": [
    "model({\"x\": batch[\"x\"].unsqueeze(0)})[\"logits\"].shape"
   ]
  },
  {
   "cell_type": "code",
   "execution_count": null,
   "metadata": {},
   "outputs": [],
   "source": [
    "batch[\"y\"]"
   ]
  },
  {
   "cell_type": "code",
   "execution_count": null,
   "metadata": {},
   "outputs": [],
   "source": [
    "from skp.toolbox.functions import count_parameters\n",
    "\n",
    "count_parameters(model)\n",
    "count_parameters(model.transformer_head)"
   ]
  },
  {
   "cell_type": "code",
   "execution_count": null,
   "metadata": {},
   "outputs": [],
   "source": [
    "y = batch[\"y\"].numpy()\n",
    "print(y.sum((1, 2)))\n",
    "y = y.transpose(1, 2, 0)[..., -3:]\n",
    "y = (y * 255).astype(\"uint8\")\n",
    "\n",
    "plt.imshow((0.6 * np.repeat(np.expand_dims(x, axis=-1), 3, axis=-1) + (0.4 * y)).astype(\"uint8\"), cmap=\"gray\")\n",
    "plt.show()"
   ]
  },
  {
   "cell_type": "code",
   "execution_count": null,
   "metadata": {},
   "outputs": [],
   "source": []
  },
  {
   "cell_type": "code",
   "execution_count": null,
   "metadata": {},
   "outputs": [],
   "source": [
    "x = batch[\"seg\"][\"y\"].numpy().transpose(1, 2, 0)[..., :3]\n",
    "print(np.unique(x))\n",
    "plt.imshow(x, cmap=\"gray\")\n",
    "plt.show()"
   ]
  },
  {
   "cell_type": "code",
   "execution_count": null,
   "metadata": {},
   "outputs": [],
   "source": [
    "batch[\"cls\"][\"y\"]"
   ]
  },
  {
   "cell_type": "code",
   "execution_count": null,
   "metadata": {},
   "outputs": [],
   "source": [
    "dataset.inputs[idx]"
   ]
  },
  {
   "cell_type": "code",
   "execution_count": null,
   "metadata": {},
   "outputs": [],
   "source": []
  }
 ],
 "metadata": {
  "kernelspec": {
   "display_name": "skp",
   "language": "python",
   "name": "python3"
  },
  "language_info": {
   "codemirror_mode": {
    "name": "ipython",
    "version": 3
   },
   "file_extension": ".py",
   "mimetype": "text/x-python",
   "name": "python",
   "nbconvert_exporter": "python",
   "pygments_lexer": "ipython3",
   "version": "3.12.8"
  }
 },
 "nbformat": 4,
 "nbformat_minor": 2
}
