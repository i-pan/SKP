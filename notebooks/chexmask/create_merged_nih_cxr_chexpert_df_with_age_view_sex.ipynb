{
 "cells": [
  {
   "cell_type": "code",
   "execution_count": 124,
   "metadata": {},
   "outputs": [],
   "source": [
    "import os\n",
    "import pandas as pd\n",
    "\n",
    "from skp.toolbox.functions import create_double_cv"
   ]
  },
  {
   "cell_type": "code",
   "execution_count": 125,
   "metadata": {},
   "outputs": [],
   "source": [
    "nih_df = pd.read_csv(\"/mnt/stor/datasets/chexmask/OriginalResolution/ChestX-Ray8.csv\")\n",
    "chex_df = pd.read_csv(\"/mnt/stor/datasets/chexmask/OriginalResolution/CheXpert-small.csv\")"
   ]
  },
  {
   "cell_type": "code",
   "execution_count": 126,
   "metadata": {},
   "outputs": [],
   "source": [
    "nih_orig = pd.read_csv(\"/mnt/stor/datasets/nih-cxr/Data_Entry_2017_v2020.csv\")\n",
    "chex_orig = pd.read_csv(\"/mnt/stor/datasets/chexpert/CheXpert-v1.0-small/train.csv\")\n",
    "chex_orig[\"Path\"] = chex_orig.Path.apply(lambda x: x.replace(\"CheXpert-v1.0-small/\", \"\"))"
   ]
  },
  {
   "cell_type": "code",
   "execution_count": 127,
   "metadata": {},
   "outputs": [],
   "source": [
    "nih_df = nih_df.merge(nih_orig, on=\"Image Index\")\n",
    "chex_df = chex_df.merge(chex_orig, on=\"Path\", how=\"right\")"
   ]
  },
  {
   "cell_type": "code",
   "execution_count": null,
   "metadata": {},
   "outputs": [],
   "source": [
    "chex_df[\"view\"] = \"\"\n",
    "chex_df.loc[chex_df[\"AP/PA\"] == \"AP\", \"view\"] = \"AP\"\n",
    "chex_df.loc[chex_df[\"AP/PA\"] == \"PA\", \"view\"] = \"PA\"\n",
    "chex_df.loc[chex_df[\"Frontal/Lateral\"] == \"Lateral\", \"view\"] = \"L\"\n",
    "chex_df = chex_df.loc[chex_df[\"view\"] != \"\"]\n",
    "chex_df.view.value_counts(dropna=False)"
   ]
  },
  {
   "cell_type": "code",
   "execution_count": null,
   "metadata": {},
   "outputs": [],
   "source": [
    "chex_df[\"Sex\"] = chex_df[\"Sex\"].apply(lambda x: x[0])\n",
    "chex_df = chex_df.loc[chex_df[\"Sex\"] != \"U\"]\n",
    "chex_df[\"Sex\"].value_counts(dropna=False)"
   ]
  },
  {
   "cell_type": "code",
   "execution_count": 130,
   "metadata": {},
   "outputs": [],
   "source": [
    "nih_df[\"patient\"] = nih_df[\"Patient ID\"].astype(\"str\")\n",
    "chex_df[\"patient\"] = chex_df[\"Path\"].apply(lambda x: x.split(\"/\")[1])"
   ]
  },
  {
   "cell_type": "code",
   "execution_count": 131,
   "metadata": {},
   "outputs": [],
   "source": [
    "cols = [\"patient\", \"filename\", \"dice_rca_mean\", \"right_lung\", \"left_lung\", \"heart\", \"view\", \"age\", \"female\"]\n",
    "nih_df = nih_df[[\"patient\", \"Image Index\", \"Dice RCA (Mean)\", \"Right Lung\", \"Left Lung\", \"Heart\", \"View Position\", \"Patient Age\", \"Patient Gender\"]]\n",
    "chex_df = chex_df[[\"patient\", \"Path\", \"Dice RCA (Mean)\", \"Right Lung\", \"Left Lung\", \"Heart\", \"view\", \"Age\", \"Sex\"]]\n",
    "\n",
    "nih_df.columns = cols\n",
    "chex_df.columns = cols"
   ]
  },
  {
   "cell_type": "code",
   "execution_count": 132,
   "metadata": {},
   "outputs": [],
   "source": [
    "nih_df[\"filename\"] = nih_df.filename.apply(lambda x: os.path.join(\"nih-cxr/images/\", x))\n",
    "chex_df[\"filename\"] = chex_df.filename.apply(lambda x: os.path.join(\"chexpert/CheXpert-v1.0-small/\", x))"
   ]
  },
  {
   "cell_type": "code",
   "execution_count": null,
   "metadata": {},
   "outputs": [],
   "source": [
    "df = pd.concat([nih_df, chex_df])\n",
    "df.head()"
   ]
  },
  {
   "cell_type": "code",
   "execution_count": null,
   "metadata": {},
   "outputs": [],
   "source": [
    "view_dict = {\"AP\": 0, \"PA\": 1, \"L\": 2}\n",
    "female_dict = {\"M\": 0, \"F\": 1}\n",
    "df[\"view\"] = df[\"view\"].map(view_dict)\n",
    "df[\"female\"] = df[\"female\"].map(female_dict)\n",
    "print(df[\"view\"].value_counts(dropna=False))\n",
    "print(df[\"female\"].value_counts(dropna=False))"
   ]
  },
  {
   "cell_type": "code",
   "execution_count": null,
   "metadata": {},
   "outputs": [],
   "source": [
    "df[\"mask_present\"] = ~df.heart.isna()\n",
    "df[\"mask_present\"].value_counts()"
   ]
  },
  {
   "cell_type": "code",
   "execution_count": null,
   "metadata": {},
   "outputs": [],
   "source": [
    "df.head()"
   ]
  },
  {
   "cell_type": "code",
   "execution_count": null,
   "metadata": {},
   "outputs": [],
   "source": [
    "df = create_double_cv(df, \"patient\", 5, 5)\n",
    "df.head()"
   ]
  },
  {
   "cell_type": "code",
   "execution_count": 138,
   "metadata": {},
   "outputs": [],
   "source": [
    "df.to_csv(\"/mnt/stor/datasets/chexmask/train_nih_chexpert_combined_rle_masks_with_age_view_sex_kfold.csv\", index=False)"
   ]
  },
  {
   "cell_type": "code",
   "execution_count": null,
   "metadata": {},
   "outputs": [],
   "source": []
  }
 ],
 "metadata": {
  "kernelspec": {
   "display_name": "skp",
   "language": "python",
   "name": "python3"
  },
  "language_info": {
   "codemirror_mode": {
    "name": "ipython",
    "version": 3
   },
   "file_extension": ".py",
   "mimetype": "text/x-python",
   "name": "python",
   "nbconvert_exporter": "python",
   "pygments_lexer": "ipython3",
   "version": "3.12.8"
  }
 },
 "nbformat": 4,
 "nbformat_minor": 2
}
