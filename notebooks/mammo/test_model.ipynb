{
 "cells": [
  {
   "cell_type": "code",
   "execution_count": 18,
   "metadata": {},
   "outputs": [],
   "source": [
    "import torch\n",
    "\n",
    "from collections import defaultdict\n",
    "from importlib import import_module\n",
    "from torch.utils.data import DataLoader\n",
    "from tqdm import tqdm\n",
    "\n",
    "from skp.toolbox.functions import load_model_from_config"
   ]
  },
  {
   "cell_type": "code",
   "execution_count": 2,
   "metadata": {},
   "outputs": [
    {
     "name": "stderr",
     "output_type": "stream",
     "text": [
      "/home/ian/miniconda3/envs/skp/lib/python3.12/site-packages/tqdm/auto.py:21: TqdmWarning: IProgress not found. Please update jupyter and ipywidgets. See https://ipywidgets.readthedocs.io/en/stable/user_install.html\n",
      "  from .autonotebook import tqdm as notebook_tqdm\n",
      "/home/ian/miniconda3/envs/skp/lib/python3.12/site-packages/albumentations/__init__.py:24: UserWarning: A new version of Albumentations is available: 2.0.0 (you have 1.4.24). Upgrade using: pip install -U albumentations. To disable automatic update checks, set the environment variable NO_ALBUMENTATIONS_UPDATE to 1.\n",
      "  check_for_updates()\n"
     ]
    },
    {
     "name": "stdout",
     "output_type": "stream",
     "text": [
      "Enabling gradient checkpointing ...\n",
      "Loading pretrained backbone from /home/ian/projects/SKP/experiments/mammo/mammo.cfg_ddsm_seg_cls_v02/445e5ce2/fold0/checkpoints/last.ckpt ...\n",
      "missing keys: ['conv_head.weight', 'bn2.weight', 'bn2.bias', 'bn2.running_mean', 'bn2.running_var']\n",
      "Loading weights from /home/ian/projects/SKP/experiments/mammo/mammo.cfg_ddsm_pretrained_aux_losses/ce2bf46d/fold0/checkpoints/ema_weights.pt ...\n"
     ]
    }
   ],
   "source": [
    "cfg_name = \"mammo.cfg_ddsm_pretrained_aux_losses\"\n",
    "cfg = import_module(f\"skp.configs.{cfg_name}\").cfg\n",
    "weights_path = cfg.save_dir + cfg_name + \"/ce2bf46d/fold0/checkpoints/ema_weights.pt\"\n",
    "model = load_model_from_config(cfg, weights_path, device=\"cuda:0\", eval_mode=True)\n",
    "dataset = import_module(f\"skp.datasets.{cfg.dataset}\").Dataset(cfg, mode=\"val\")"
   ]
  },
  {
   "cell_type": "code",
   "execution_count": 19,
   "metadata": {},
   "outputs": [],
   "source": [
    "loader = DataLoader(dataset, batch_size=16, shuffle=False, num_workers=13, drop_last=False)"
   ]
  },
  {
   "cell_type": "code",
   "execution_count": 20,
   "metadata": {},
   "outputs": [
    {
     "name": "stderr",
     "output_type": "stream",
     "text": [
      "  0%|          | 0/684 [00:00<?, ?it/s]/home/ian/miniconda3/envs/skp/lib/python3.12/site-packages/torch/_dynamo/eval_frame.py:632: UserWarning: torch.utils.checkpoint: the use_reentrant parameter should be passed explicitly. In version 2.5 we will raise an exception if use_reentrant is not passed. use_reentrant=False is recommended, but if you need to preserve the current default behavior, you can pass use_reentrant=True. Refer to docs for more details on the differences between the two variants.\n",
      "  return fn(*args, **kwargs)\n",
      "/home/ian/miniconda3/envs/skp/lib/python3.12/site-packages/torch/utils/checkpoint.py:87: UserWarning: None of the inputs have requires_grad=True. Gradients will be None\n",
      "  warnings.warn(\n",
      " 30%|██▉       | 203/684 [01:30<03:33,  2.26it/s]"
     ]
    }
   ],
   "source": [
    "pred_dict = defaultdict(list)\n",
    "for batch in tqdm(loader, total=len(loader)):\n",
    "    x = batch[\"x\"]\n",
    "    x = x.to(\"cuda:0\")\n",
    "    with torch.inference_mode():\n",
    "        p = model({\"x\": x})\n",
    "    pred_dict[\"y_pred\"].append(p[\"logits\"][:, 0].cpu().numpy())\n",
    "    pred_dict[\"y_true\"].append(batch[\"y\"][:, 0].numpy())\n",
    "    pred_dict[\"group_index\"].append(batch[\"group_index\"].numpy())"
   ]
  },
  {
   "cell_type": "code",
   "execution_count": 21,
   "metadata": {},
   "outputs": [
    {
     "data": {
      "text/plain": [
       "defaultdict(list,\n",
       "            {'y_pred': [array([-6.0096784, -5.664594 , -6.4485154, -4.9985366, -7.8987017,\n",
       "                     -5.416729 , -5.286799 , -7.283538 , -6.1503277, -6.6345015,\n",
       "                     -5.3408723, -6.632629 , -8.614459 , -4.2328224, -6.6327295,\n",
       "                     -7.6492496], dtype=float32)],\n",
       "             'y_true': [array([0., 0., 0., 0., 0., 0., 0., 0., 0., 0., 0., 0., 0., 0., 0., 0.],\n",
       "                    dtype=float32)],\n",
       "             'group_index': [array([ 4,  4,  5,  5, 18, 18, 19, 19, 26, 26, 27, 27, 36, 36, 36, 37])]})"
      ]
     },
     "execution_count": 21,
     "metadata": {},
     "output_type": "execute_result"
    }
   ],
   "source": []
  },
  {
   "cell_type": "code",
   "execution_count": null,
   "metadata": {},
   "outputs": [],
   "source": []
  }
 ],
 "metadata": {
  "kernelspec": {
   "display_name": "skp",
   "language": "python",
   "name": "python3"
  },
  "language_info": {
   "codemirror_mode": {
    "name": "ipython",
    "version": 3
   },
   "file_extension": ".py",
   "mimetype": "text/x-python",
   "name": "python",
   "nbconvert_exporter": "python",
   "pygments_lexer": "ipython3",
   "version": "3.12.8"
  }
 },
 "nbformat": 4,
 "nbformat_minor": 2
}
