{
 "cells": [
  {
   "cell_type": "code",
   "execution_count": null,
   "metadata": {},
   "outputs": [],
   "source": [
    "import albumentations as A\n",
    "import cv2\n",
    "import matplotlib.pyplot as plt\n",
    "import numpy as np"
   ]
  },
  {
   "cell_type": "code",
   "execution_count": null,
   "metadata": {},
   "outputs": [],
   "source": [
    "\"\"\"\n",
    "A.GaussNoise(std_range=(0.1, 0.5), p=1),\n",
    "A.Rotate(limit=(-90, 90), border_mode=cv2.BORDER_CONSTANT, p=1)\n",
    "A.Affine(scale=(0.75, 1.25), border_mode=cv2.BORDER_CONSTANT, p=1),\n",
    "A.Affine(shear=(-15, 15), border_mode=cv2.BORDER_CONSTANT, p=1),\n",
    "A.Affine(translate_percent={\"x\": (-20, 20)}, border_mode=cv2.BORDER_CONSTANT, p=1),\n",
    "A.InvertImg(p=1),\n",
    "A.AutoContrast(p=1),\n",
    "A.RandomBrightnessContrast(brightness_limit=(-0.4, 0.4), contrast_limit=(0, 0), p=1),\n",
    "A.RandomGamma(gamma_limit=(50, 150), p=1),\n",
    "A.Downscale(scale_range=(0.25, 0.25), p=1),\n",
    "A.ImageCompression(quality_range=(20, 100), p=1),\n",
    "A.Posterize(num_bits=5, p=1),\n",
    "A.Solarize(threshold_range=(0.5, 0.5), p=1)\n",
    "\"\"\""
   ]
  },
  {
   "cell_type": "code",
   "execution_count": null,
   "metadata": {},
   "outputs": [],
   "source": [
    "def plot_over_range_of_values(img, aug, params_dict, param_key):\n",
    "    plt.imshow(img, cmap=\"gray\")\n",
    "    plt.title(\"Original\")\n",
    "    plt.show()\n",
    "    assert params_dict[param_key] is list,f \"specified param_key `{param_key}` to iterate over is not a list\"\n",
    "    for v in params_dict[param_key]:\n",
    "        augs = A.Compose([\n",
    "            A.ImageCompression(quality_range=(v, v), p=1)\n",
    "        ], p=1)\n",
    "        img_aug = augs(image=img)[\"image\"]\n",
    "        plt.imshow(img_aug, cmap=\"gray\")\n",
    "        plt.title(v)\n",
    "        plt.show()"
   ]
  },
  {
   "cell_type": "code",
   "execution_count": null,
   "metadata": {},
   "outputs": [],
   "source": [
    "img_path = \"/mnt/stor/datasets/kaggle/ranzcr-clip-catheter-line-classification/train/1.2.826.0.1.3680043.8.498.10000428974990117276582711948006105617.jpg\"\n",
    "img_path = \"/mnt/stor/datasets/kaggle/rsna-breast-cancer-detection/train_cropped_png/10095/1276618392.png\""
   ]
  },
  {
   "cell_type": "code",
   "execution_count": null,
   "metadata": {},
   "outputs": [],
   "source": [
    "img = cv2.imread(img_path, cv2.IMREAD_GRAYSCALE)"
   ]
  },
  {
   "cell_type": "code",
   "execution_count": null,
   "metadata": {},
   "outputs": [],
   "source": [
    "img = cv2.imread(img_path, cv2.IMREAD_GRAYSCALE)\n",
    "plot_over_range_of_values(img.copy(), np.arange(20, 100, 10))"
   ]
  },
  {
   "cell_type": "code",
   "execution_count": null,
   "metadata": {},
   "outputs": [],
   "source": [
    "plt.imshow(img, cmap=\"gray\")\n",
    "plt.show()\n",
    "img_aug = A.Solarize(p=1, threshold_range=(0.5, 0.5))(image=img.copy())[\"image\"]\n",
    "plt.imshow(img_aug, cmap=\"gray\")\n",
    "plt.show()"
   ]
  },
  {
   "cell_type": "code",
   "execution_count": null,
   "metadata": {},
   "outputs": [],
   "source": [
    "np.unique(img_aug - img)"
   ]
  },
  {
   "cell_type": "code",
   "execution_count": null,
   "metadata": {},
   "outputs": [],
   "source": [
    "np.unique(img_aug)"
   ]
  },
  {
   "cell_type": "code",
   "execution_count": 22,
   "metadata": {},
   "outputs": [],
   "source": [
    "augmentation_space = [\n",
    "    A.HorizontalFlip(p=1),\n",
    "    A.VerticalFlip(p=1),\n",
    "    A.Rotate(limit=(-90, 90), border_mode=cv2.BORDER_CONSTANT, p=1),\n",
    "    A.Affine(scale=(0.75, 1.25), border_mode=cv2.BORDER_CONSTANT, p=1),\n",
    "    A.Affine(shear=(-15, 15), border_mode=cv2.BORDER_CONSTANT, p=1),\n",
    "    A.Affine(translate_percent={\"x\": (-0.20, 0.20)}, border_mode=cv2.BORDER_CONSTANT, p=1),\n",
    "    A.InvertImg(p=1),\n",
    "    A.Solarize(threshold_range=(0.5, 0.5), p=1),\n",
    "    A.AutoContrast(p=1),\n",
    "    A.RandomBrightnessContrast(\n",
    "        brightness_limit=(-0.4, 0.4), contrast_limit=(0, 0), p=1\n",
    "    ),\n",
    "    A.RandomGamma(gamma_limit=(50, 150), p=1),\n",
    "    A.GaussNoise(std_range=(0.1, 0.5), p=1),\n",
    "    A.Downscale(scale_range=(0.25, 0.25), p=1),\n",
    "    A.ImageCompression(quality_range=(20, 100), p=1),\n",
    "    A.Posterize(num_bits=5, p=1),\n",
    "]\n",
    "\n",
    "augment_p = 1 - (len(augmentation_space) + 1) ** -1\n",
    "augment = A.OneOf(augmentation_space, p=augment_p)"
   ]
  },
  {
   "cell_type": "code",
   "execution_count": null,
   "metadata": {},
   "outputs": [],
   "source": [
    "for single_augment in augmentation_space:\n",
    "    img_aug = single_augment(image=img.copy())[\"image\"]\n",
    "    plt.imshow(img_aug, cmap=\"gray\")\n",
    "    plt.title(single_augment)\n",
    "    plt.show()"
   ]
  },
  {
   "cell_type": "code",
   "execution_count": null,
   "metadata": {},
   "outputs": [],
   "source": [
    "img_aug = augment(image=img.copy())[\"image\"]\n",
    "plt.imshow(img_aug, cmap=\"gray\")\n",
    "plt.show()"
   ]
  },
  {
   "cell_type": "code",
   "execution_count": null,
   "metadata": {},
   "outputs": [],
   "source": [
    "augment"
   ]
  },
  {
   "cell_type": "code",
   "execution_count": null,
   "metadata": {},
   "outputs": [],
   "source": []
  }
 ],
 "metadata": {
  "kernelspec": {
   "display_name": "skp",
   "language": "python",
   "name": "python3"
  },
  "language_info": {
   "codemirror_mode": {
    "name": "ipython",
    "version": 3
   },
   "file_extension": ".py",
   "mimetype": "text/x-python",
   "name": "python",
   "nbconvert_exporter": "python",
   "pygments_lexer": "ipython3",
   "version": "3.12.8"
  }
 },
 "nbformat": 4,
 "nbformat_minor": 2
}
