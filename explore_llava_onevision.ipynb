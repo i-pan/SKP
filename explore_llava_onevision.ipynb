{
 "cells": [
  {
   "cell_type": "code",
   "execution_count": null,
   "metadata": {},
   "outputs": [],
   "source": [
    "import matplotlib.pyplot as plt \n",
    "import numpy as np\n",
    "import requests\n",
    "\n",
    "from PIL import Image \n",
    "from transformers import LlavaOnevisionProcessor"
   ]
  },
  {
   "cell_type": "code",
   "execution_count": null,
   "metadata": {},
   "outputs": [],
   "source": [
    "image_file = \"http://images.cocodataset.org/val2017/000000039769.jpg\"\n",
    "raw_image = Image.open(requests.get(image_file, stream=True).raw)\n",
    "\n",
    "plt.imshow(np.asarray(raw_image))"
   ]
  },
  {
   "cell_type": "code",
   "execution_count": null,
   "metadata": {},
   "outputs": [],
   "source": [
    "processor = LlavaOnevisionProcessor.from_pretrained(\"llava-hf/llava-onevision-qwen2-7b-ov-hf\")"
   ]
  },
  {
   "cell_type": "code",
   "execution_count": null,
   "metadata": {},
   "outputs": [],
   "source": [
    "processed = processor.image_processor.preprocess(raw_image)\n",
    "print(processed.keys())\n",
    "print(processed[\"pixel_values\"][0].shape)\n",
    "print(np.unique(processed[\"pixel_values\"][0]))"
   ]
  },
  {
   "cell_type": "code",
   "execution_count": null,
   "metadata": {},
   "outputs": [],
   "source": [
    "for i in processed[\"pixel_values\"][0]:\n",
    "    i = i + 1\n",
    "    i = (i * 255 / 2).astype(np.uint8)\n",
    "    plt.imshow(i.transpose(1, 2, 0))\n",
    "    plt.show()"
   ]
  },
  {
   "cell_type": "code",
   "execution_count": 20,
   "metadata": {},
   "outputs": [
    {
     "data": {
      "text/plain": [
       "array([[[141,  25,  58],\n",
       "        [144,  23,  63],\n",
       "        [148,  23,  71],\n",
       "        ...,\n",
       "        [105,  12,  39],\n",
       "        [102,  14,  39],\n",
       "        [104,  13,  36]],\n",
       "\n",
       "       [[141,  27,  51],\n",
       "        [146,  26,  57],\n",
       "        [151,  28,  64],\n",
       "        ...,\n",
       "        [102,  16,  39],\n",
       "        [103,  14,  36],\n",
       "        [100,  14,  33]],\n",
       "\n",
       "       [[142,  27,  58],\n",
       "        [146,  26,  61],\n",
       "        [149,  26,  66],\n",
       "        ...,\n",
       "        [102,  16,  35],\n",
       "        [102,  16,  34],\n",
       "        [ 99,  14,  29]],\n",
       "\n",
       "       ...,\n",
       "\n",
       "       [[234,  95, 198],\n",
       "        [234,  95, 194],\n",
       "        [231,  93, 188],\n",
       "        ...,\n",
       "        [202,  66, 174],\n",
       "        [197,  63, 166],\n",
       "        [202,  69, 168]],\n",
       "\n",
       "       [[231,  91, 200],\n",
       "        [232,  93, 199],\n",
       "        [225,  86, 191],\n",
       "        ...,\n",
       "        [175,  52, 135],\n",
       "        [164,  45, 125],\n",
       "        [154,  40, 117]],\n",
       "\n",
       "       [[235,  95, 197],\n",
       "        [232,  92, 203],\n",
       "        [219,  80, 199],\n",
       "        ...,\n",
       "        [103,  21,  53],\n",
       "        [ 91,  17,  43],\n",
       "        [ 82,  14,  44]]], shape=(288, 384, 3), dtype=uint8)"
      ]
     },
     "execution_count": 20,
     "metadata": {},
     "output_type": "execute_result"
    }
   ],
   "source": [
    "processor.image_processor._resize_for_patching(np.asarray(raw_image), target_resolution=(384, 384), resample=Image.BILINEAR, input_data_format=None)"
   ]
  },
  {
   "cell_type": "code",
   "execution_count": 21,
   "metadata": {},
   "outputs": [
    {
     "data": {
      "text/plain": [
       "(640, 480)"
      ]
     },
     "execution_count": 21,
     "metadata": {},
     "output_type": "execute_result"
    }
   ],
   "source": [
    "raw_image.size"
   ]
  },
  {
   "cell_type": "code",
   "execution_count": 23,
   "metadata": {},
   "outputs": [
    {
     "data": {
      "text/plain": [
       "0.75"
      ]
     },
     "execution_count": 23,
     "metadata": {},
     "output_type": "execute_result"
    }
   ],
   "source": [
    "288/384"
   ]
  },
  {
   "cell_type": "code",
   "execution_count": null,
   "metadata": {},
   "outputs": [],
   "source": []
  }
 ],
 "metadata": {
  "kernelspec": {
   "display_name": "transformers",
   "language": "python",
   "name": "python3"
  },
  "language_info": {
   "codemirror_mode": {
    "name": "ipython",
    "version": 3
   },
   "file_extension": ".py",
   "mimetype": "text/x-python",
   "name": "python",
   "nbconvert_exporter": "python",
   "pygments_lexer": "ipython3",
   "version": "3.12.8"
  }
 },
 "nbformat": 4,
 "nbformat_minor": 2
}
